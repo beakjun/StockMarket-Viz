{
 "cells": [
  {
   "cell_type": "code",
   "execution_count": 1,
   "metadata": {},
   "outputs": [],
   "source": [
    "## 접속정보입력\n",
    "DB_HOST='gcp.connect.psdb.cloud'\n",
    "DB_USERNAME='srcb1dudnv47tt0psrm2'\n",
    "DB_PASSWORD = '***********************''\n",
    "DB_NAME='stockmarket'\n"
   ]
  },
  {
   "cell_type": "code",
   "execution_count": 2,
   "metadata": {},
   "outputs": [],
   "source": [
    "from dotenv import load_dotenv\n",
    "load_dotenv()\n",
    "import os\n",
    "import MySQLdb"
   ]
  },
  {
   "cell_type": "code",
   "execution_count": 5,
   "metadata": {},
   "outputs": [],
   "source": [
    "connection = MySQLdb.connect(\n",
    "            host = DB_HOST,\n",
    "            user = DB_USERNAME,\n",
    "            passwd = DB_PASSWORD,\n",
    "            db = DB_NAME,\n",
    "            autocommit = True ,\n",
    "            ssl_mode = 'VERIFY_IDENTITY',\n",
    "            ssl      = {\n",
    "    \"ca\": \"cacert.pem\" # 해당 파일과 같은 위치에 위치\n",
    "  }\n",
    ")"
   ]
  },
  {
   "cell_type": "code",
   "execution_count": 6,
   "metadata": {},
   "outputs": [
    {
     "data": {
      "text/plain": [
       "0"
      ]
     },
     "execution_count": 6,
     "metadata": {},
     "output_type": "execute_result"
    }
   ],
   "source": [
    "# 연결 확인\n",
    "cursor = connection.cursor()\n",
    "cursor.execute(\"SELECT * FROM categories;\")"
   ]
  },
  {
   "cell_type": "code",
   "execution_count": null,
   "metadata": {},
   "outputs": [],
   "source": [
    "# Airflow에서 수집된 데이터 저장해 마트에 활용할 예정\n",
    "# Kubernetes 활용 예정"
   ]
  }
 ],
 "metadata": {
  "kernelspec": {
   "display_name": "Python 3",
   "language": "python",
   "name": "python3"
  },
  "language_info": {
   "codemirror_mode": {
    "name": "ipython",
    "version": 3
   },
   "file_extension": ".py",
   "mimetype": "text/x-python",
   "name": "python",
   "nbconvert_exporter": "python",
   "pygments_lexer": "ipython3",
   "version": "3.8.3"
  }
 },
 "nbformat": 4,
 "nbformat_minor": 4
}
